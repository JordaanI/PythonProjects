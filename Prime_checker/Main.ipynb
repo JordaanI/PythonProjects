{
 "cells": [
  {
   "cell_type": "code",
   "execution_count": 2,
   "metadata": {},
   "outputs": [
    {
     "name": "stdout",
     "output_type": "stream",
     "text": [
      "3 7\n"
     ]
    }
   ],
   "source": [
    "#####################\n",
    "### PRIME CHECKER ###\n",
    "#####################\n",
    "\n",
    "import numpy as np\n",
    "\n",
    "def prime(n):\n",
    "    possible_prime = 2**n -1\n",
    "    lucas = [4]\n",
    "    running = 4\n",
    "    status = True\n",
    "    while status:\n",
    "        if possible_prime > running:\n",
    "            running = running**2 - 2\n",
    "            lucas.append(running)\n",
    "        else:\n",
    "            remainder = running%possible_prime\n",
    "            if remainder == 0:\n",
    "                print(n,possible_prime)\n",
    "                status = False\n",
    "            running = running**2 - 2\n",
    "            lucas.append(remainder)    \n",
    "        if len(lucas) == n:\n",
    "            status = False\n",
    "            \n",
    "prime(3)"
   ]
  },
  {
   "cell_type": "code",
   "execution_count": 3,
   "metadata": {},
   "outputs": [
    {
     "name": "stdout",
     "output_type": "stream",
     "text": [
      "3 7\n",
      "5 31\n",
      "7 127\n",
      "13 8191\n",
      "17 131071\n",
      "19 524287\n",
      "31 2147483647\n"
     ]
    }
   ],
   "source": [
    "primes = [2, 3, 5, 7, 11, 13, 17, 19, 23, 29, 31, 37, 41, 43, 47, 53, 59, 61, 67, 71, 73, 79, 83, 89, 97]\n",
    "\n",
    "for i in primes:\n",
    "    prime(i)"
   ]
  }
 ],
 "metadata": {
  "interpreter": {
   "hash": "4f83d188c93285744c9e231d0e20b204081cd39f5e44132ec4def0ee68076c04"
  },
  "kernelspec": {
   "display_name": "Python 3.9.7 64-bit",
   "language": "python",
   "name": "python3"
  },
  "language_info": {
   "codemirror_mode": {
    "name": "ipython",
    "version": 3
   },
   "file_extension": ".py",
   "mimetype": "text/x-python",
   "name": "python",
   "nbconvert_exporter": "python",
   "pygments_lexer": "ipython3",
   "version": "3.9.7"
  },
  "orig_nbformat": 4
 },
 "nbformat": 4,
 "nbformat_minor": 2
}
