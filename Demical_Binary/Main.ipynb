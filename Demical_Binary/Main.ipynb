{
 "cells": [
  {
   "cell_type": "code",
   "execution_count": 1,
   "metadata": {},
   "outputs": [],
   "source": [
    "###############\n",
    "### IMPORTS ###\n",
    "###############\n",
    "\n",
    "import numpy"
   ]
  },
  {
   "cell_type": "code",
   "execution_count": 2,
   "metadata": {},
   "outputs": [],
   "source": [
    "#################\n",
    "### FUNCTIONS ###\n",
    "#################\n",
    "\n",
    "def to_binary(num,res=[]):\n",
    "    rem = num%2\n",
    "    quotient = num//2\n",
    "    res.append(str(rem))\n",
    "    if quotient != 0:\n",
    "        return to_binary(quotient,res)\n",
    "    else:\n",
    "        return int(''.join(res[::-1]))\n",
    "\n",
    "def to_decimal(num):\n",
    "    res = 0\n",
    "    comp=[1]\n",
    "    for i in range(len(str(num))-1):\n",
    "        comp.append(comp[-1]*2)\n",
    "    working = zip(list(str(num))[::-1],comp)\n",
    "    for pair in working:\n",
    "        if pair[0] == '1':\n",
    "            res += pair[1]\n",
    "    return res\n"
   ]
  },
  {
   "cell_type": "code",
   "execution_count": 3,
   "metadata": {},
   "outputs": [
    {
     "data": {
      "text/plain": [
       "1351"
      ]
     },
     "execution_count": 3,
     "metadata": {},
     "output_type": "execute_result"
    }
   ],
   "source": [
    "to_decimal(to_binary(1351))\n",
    "\n"
   ]
  }
 ],
 "metadata": {
  "kernelspec": {
   "display_name": "Python 3.9.7 64-bit",
   "language": "python",
   "name": "python3"
  },
  "language_info": {
   "codemirror_mode": {
    "name": "ipython",
    "version": 3
   },
   "file_extension": ".py",
   "mimetype": "text/x-python",
   "name": "python",
   "nbconvert_exporter": "python",
   "pygments_lexer": "ipython3",
   "version": "3.9.7"
  },
  "orig_nbformat": 4,
  "vscode": {
   "interpreter": {
    "hash": "e17eab0df9e3307548a5c6f41d73e01b4dc6a359441bcee24f0d97b016c3af62"
   }
  }
 },
 "nbformat": 4,
 "nbformat_minor": 2
}
