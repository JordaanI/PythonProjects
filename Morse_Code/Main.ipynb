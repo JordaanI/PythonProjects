{
 "cells": [
  {
   "cell_type": "code",
   "execution_count": null,
   "metadata": {},
   "outputs": [],
   "source": [
    "###############\n",
    "### IMPORTS ###\n",
    "###############\n",
    "\n",
    "import numpy"
   ]
  },
  {
   "cell_type": "code",
   "execution_count": 16,
   "metadata": {},
   "outputs": [],
   "source": [
    "#################\n",
    "### VARIABLES ###\n",
    "#################\n",
    "\n",
    "MORSE_CODE_DICT = { 'A':'.-', 'B':'-...',\n",
    "                    'C':'-.-.', 'D':'-..', 'E':'.',\n",
    "                    'F':'..-.', 'G':'--.', 'H':'....',\n",
    "                    'I':'..', 'J':'.---', 'K':'-.-',\n",
    "                    'L':'.-..', 'M':'--', 'N':'-.',\n",
    "                    'O':'---', 'P':'.--.', 'Q':'--.-',\n",
    "                    'R':'.-.', 'S':'...', 'T':'-',\n",
    "                    'U':'..-', 'V':'...-', 'W':'.--',\n",
    "                    'X':'-..-', 'Y':'-.--', 'Z':'--..',\n",
    "                    '1':'.----', '2':'..---', '3':'...--',\n",
    "                    '4':'....-', '5':'.....', '6':'-....',\n",
    "                    '7':'--...', '8':'---..', '9':'----.',\n",
    "                    '0':'-----', ', ':'--..--', '.':'.-.-.-',\n",
    "                    '?':'..--..', '/':'-..-.', '-':'-....-',\n",
    "                    '(':'-.--.', ')':'-.--.-'}\n",
    "REV_MORSE_CODE = {v: k for k, v in MORSE_CODE_DICT.items()}"
   ]
  },
  {
   "cell_type": "code",
   "execution_count": 21,
   "metadata": {},
   "outputs": [
    {
     "data": {
      "text/plain": [
       "'THIS  IS  A  TEST  SENTENCE. '"
      ]
     },
     "execution_count": 21,
     "metadata": {},
     "output_type": "execute_result"
    }
   ],
   "source": [
    "#################\n",
    "### FUNCTIONS ###\n",
    "#################\n",
    "\n",
    "def encode(string):\n",
    "    res = []\n",
    "    sentence = string.upper().split()\n",
    "    for word in sentence:\n",
    "        if word[-1] not in [', ', '.','?', '/', '-','(', ')']:\n",
    "            for char in word:\n",
    "                res.append(MORSE_CODE_DICT[char]+' ')  \n",
    "            res.append('   ')\n",
    "        else:\n",
    "            for char in word:\n",
    "                res.append(MORSE_CODE_DICT[char]+' ')\n",
    "    return ''.join(res)\n",
    "\n",
    "def decode(string):\n",
    "    res = []\n",
    "    sentence = string.split('  ')\n",
    "    for word in sentence:\n",
    "        chars = word.split()\n",
    "        for char in chars:\n",
    "            res.append(REV_MORSE_CODE[char])\n",
    "        res.append(' ')\n",
    "    return ''.join(res)\n",
    "\n",
    "decode(encode('This is a test sentence.'))"
   ]
  }
 ],
 "metadata": {
  "interpreter": {
   "hash": "4f83d188c93285744c9e231d0e20b204081cd39f5e44132ec4def0ee68076c04"
  },
  "kernelspec": {
   "display_name": "Python 3.9.7 64-bit",
   "language": "python",
   "name": "python3"
  },
  "language_info": {
   "codemirror_mode": {
    "name": "ipython",
    "version": 3
   },
   "file_extension": ".py",
   "mimetype": "text/x-python",
   "name": "python",
   "nbconvert_exporter": "python",
   "pygments_lexer": "ipython3",
   "version": "3.9.7"
  },
  "orig_nbformat": 4
 },
 "nbformat": 4,
 "nbformat_minor": 2
}
