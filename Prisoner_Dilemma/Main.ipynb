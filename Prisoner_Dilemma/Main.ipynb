{
 "cells": [
  {
   "cell_type": "code",
   "execution_count": 3,
   "metadata": {},
   "outputs": [
    {
     "data": {
      "text/plain": [
       "1.0"
      ]
     },
     "execution_count": 3,
     "metadata": {},
     "output_type": "execute_result"
    }
   ],
   "source": [
    "number_of_runs = 10000\n",
    "number_of_prisoners = 100\n",
    "guesses = number_of_prisoners*0.5\n",
    "\n",
    "res, counts = many_runs(number_of_runs,number_of_prisoners,guesses)\n",
    "res.count(1)/len(res)"
   ]
  },
  {
   "cell_type": "code",
   "execution_count": 15,
   "metadata": {},
   "outputs": [],
   "source": [
    "totals = []\n",
    "\n",
    "for i in counts:\n",
    "    totals += i"
   ]
  },
  {
   "cell_type": "code",
   "execution_count": 18,
   "metadata": {},
   "outputs": [],
   "source": [
    "plt.bar(totals,totals);"
   ]
  },
  {
   "cell_type": "code",
   "execution_count": 7,
   "metadata": {},
   "outputs": [
    {
     "data": {
      "text/plain": [
       "(1, [2, 5, 5, 5, 2, 5, 2, 5, 0, 5])"
      ]
     },
     "execution_count": 7,
     "metadata": {},
     "output_type": "execute_result"
    }
   ],
   "source": [
    "import matplotlib.pyplot as plt\n",
    "import random\n",
    "\n",
    "def investigate(seq,num,prisoner,guesses,count=0):\n",
    "    while seq[num] != prisoner:\n",
    "        num = seq[num]\n",
    "        count += 1\n",
    "    if count > guesses:\n",
    "        return 0, -1\n",
    "    else:\n",
    "        return 1, count\n",
    "\n",
    "def initialize(n):\n",
    "    seq = random.sample(range(n),n)\n",
    "    unique_prisoners = list(range(n))\n",
    "    return seq, unique_prisoners\n",
    "\n",
    "def one_run(num_of_prisoners,guesses):\n",
    "    seq, unique_prisoners = initialize(num_of_prisoners)\n",
    "    res = []\n",
    "    counts = []\n",
    "    while unique_prisoners:\n",
    "        num = random.choice(unique_prisoners)\n",
    "        result, count = investigate(seq,num,num,guesses)\n",
    "        res.append(result)\n",
    "        counts.append(count)\n",
    "        unique_prisoners.remove(num)\n",
    "    if sum(res)/len(res) == 1:\n",
    "        return 1, counts\n",
    "    else:\n",
    "        return 0, counts\n",
    "\n",
    "def many_runs(number_of_runs,number_of_prisoners,guesses):\n",
    "    res = []\n",
    "    counts = []\n",
    "    for i in range(number_of_runs):\n",
    "        result, count = one_run(number_of_prisoners,guesses)\n",
    "        res.append(result)\n",
    "        counts.append(count)\n",
    "    return res, counts\n",
    "\n",
    "number_of_prisoners=10\n",
    "guesses=5\n",
    "\n",
    "one_run(number_of_prisoners,guesses)"
   ]
  },
  {
   "cell_type": "code",
   "execution_count": 11,
   "metadata": {},
   "outputs": [
    {
     "data": {
      "image/png": "[encoded data removed]",
      "text/plain": [
       "<Figure size 432x288 with 1 Axes>"
      ]
     },
     "metadata": {
      "needs_background": "light"
     },
     "output_type": "display_data"
    }
   ],
   "source": [
    "number_of_runs = 10000\n",
    "number_of_prisoners = 100\n",
    "percentages = []\n",
    "\n",
    "for guess in range(1,101):\n",
    "    res, counts = many_runs(number_of_runs,number_of_prisoners,guess)\n",
    "    percentages.append(res.count(1)/len(res) * 100)\n",
    "\n",
    "plt.plot(percentages);"
   ]
  }
 ],
 "metadata": {
  "kernelspec": {
   "display_name": "Python 3.9.7 64-bit",
   "language": "python",
   "name": "python3"
  },
  "language_info": {
   "codemirror_mode": {
    "name": "ipython",
    "version": 3
   },
   "file_extension": ".py",
   "mimetype": "text/x-python",
   "name": "python",
   "nbconvert_exporter": "python",
   "pygments_lexer": "ipython3",
   "version": "3.9.7"
  },
  "orig_nbformat": 4,
  "vscode": {
   "interpreter": {
    "hash": "e17eab0df9e3307548a5c6f41d73e01b4dc6a359441bcee24f0d97b016c3af62"
   }
  }
 },
 "nbformat": 4,
 "nbformat_minor": 2
}
