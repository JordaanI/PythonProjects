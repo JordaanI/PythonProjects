{
 "cells": [
  {
   "cell_type": "code",
   "execution_count": 120,
   "metadata": {},
   "outputs": [],
   "source": [
    "###############\n",
    "### IMPORTS ###\n",
    "###############\n",
    "\n",
    "import random\n",
    "from statistics import mean\n",
    "import matplotlib.pyplot as plt"
   ]
  },
  {
   "cell_type": "code",
   "execution_count": 73,
   "metadata": {},
   "outputs": [],
   "source": [
    "#################\n",
    "### FUNCTIONS ###\n",
    "#################\n",
    "\n",
    "def initialization(n):\n",
    "    sequence = random.sample(range(n),n)\n",
    "    return sequence\n",
    "\n",
    "def investigate(sequence,prisoner, guesses):\n",
    "    count = 0\n",
    "    ticket = sequence[prisoner]\n",
    "    while ticket != prisoner:\n",
    "        ticket = sequence[ticket]\n",
    "        count += 1\n",
    "    if count <= guesses:\n",
    "        return (1,count)\n",
    "    else:\n",
    "        return (0,count)\n",
    "\n",
    "def single(sequence,guesses):\n",
    "    prisoners = set(range(len(sequence)))\n",
    "    did_find_ticket = list()\n",
    "    counts = list()\n",
    "    while prisoners:\n",
    "        prisoner = prisoners.pop()\n",
    "        result = investigate(sequence,prisoner,guesses)\n",
    "        did_find_ticket.append(result[0])\n",
    "        counts.append(result[1])\n",
    "    return did_find_ticket, counts\n",
    "\n",
    "def many(runs,number_of_prisoners,guesses):\n",
    "    hits = list()\n",
    "    for i in range(runs):\n",
    "        sequence = initialization(number_of_prisoners)\n",
    "        did_find_ticket, counts = single(sequence,guesses)\n",
    "        if did_find_ticket.count(1)/len(did_find_ticket) == 1:\n",
    "            hits.append(1)\n",
    "        else:\n",
    "            hits.append(0)\n",
    "    return(hits)"
   ]
  },
  {
   "cell_type": "code",
   "execution_count": 122,
   "metadata": {},
   "outputs": [
    {
     "data": {
      "image/png": "[encoded data removed]",
      "text/plain": [
       "<Figure size 432x288 with 1 Axes>"
      ]
     },
     "metadata": {
      "needs_background": "light"
     },
     "output_type": "display_data"
    }
   ],
   "source": [
    "number_of_prisoners = 100\n",
    "runs = 1000000\n",
    "guesses = number_of_prisoners*0.5\n",
    "\n",
    "percentages = list()\n",
    "for run in [10,100,1000,10000,100000,1000000]:\n",
    "    percentages.append(mean(many(run,number_of_prisoners,guesses)))\n",
    "plt.plot(percentages);"
   ]
  }
 ],
 "metadata": {
  "kernelspec": {
   "display_name": "Python 3.9.7 64-bit",
   "language": "python",
   "name": "python3"
  },
  "language_info": {
   "codemirror_mode": {
    "name": "ipython",
    "version": 3
   },
   "file_extension": ".py",
   "mimetype": "text/x-python",
   "name": "python",
   "nbconvert_exporter": "python",
   "pygments_lexer": "ipython3",
   "version": "3.9.7"
  },
  "orig_nbformat": 4,
  "vscode": {
   "interpreter": {
    "hash": "e17eab0df9e3307548a5c6f41d73e01b4dc6a359441bcee24f0d97b016c3af62"
   }
  }
 },
 "nbformat": 4,
 "nbformat_minor": 2
}
