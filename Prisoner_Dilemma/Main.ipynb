{
 "cells": [
  {
   "cell_type": "code",
   "execution_count": null,
   "metadata": {},
   "outputs": [],
   "source": [
    "import random"
   ]
  },
  {
   "cell_type": "code",
   "execution_count": 181,
   "metadata": {},
   "outputs": [
    {
     "data": {
      "text/plain": [
       "[0, 1, 0, 0, 0, 0, 0, 0, 0, 0]"
      ]
     },
     "execution_count": 181,
     "metadata": {},
     "output_type": "execute_result"
    }
   ],
   "source": [
    "def investigate(seq,num,prisoner,count=0):\n",
    "    if seq[num] != prisoner:\n",
    "        count += 1\n",
    "        if count > 0.5*len(seq):\n",
    "            return 0\n",
    "        num = seq[num]\n",
    "        return investigate(seq,num,prisoner,count)\n",
    "    else:\n",
    "        return 1\n",
    "\n",
    "def initialize(n):\n",
    "    seq = random.sample(range(n),n)\n",
    "    unique_prisoners = list(range(n))\n",
    "    return seq, unique_prisoners\n",
    "\n",
    "seq, unique_prisoners = initialize(10)\n",
    "res = []\n",
    "while unique_prisoners:\n",
    "    num = random.choice(unique_prisoners)\n",
    "    res.append(investigate(seq,num,num))\n",
    "    unique_prisoners.remove(num)\n",
    "\n",
    "res"
   ]
  }
 ],
 "metadata": {
  "kernelspec": {
   "display_name": "Python 3.9.7 64-bit",
   "language": "python",
   "name": "python3"
  },
  "language_info": {
   "codemirror_mode": {
    "name": "ipython",
    "version": 3
   },
   "file_extension": ".py",
   "mimetype": "text/x-python",
   "name": "python",
   "nbconvert_exporter": "python",
   "pygments_lexer": "ipython3",
   "version": "3.9.7"
  },
  "orig_nbformat": 4,
  "vscode": {
   "interpreter": {
    "hash": "e17eab0df9e3307548a5c6f41d73e01b4dc6a359441bcee24f0d97b016c3af62"
   }
  }
 },
 "nbformat": 4,
 "nbformat_minor": 2
}
