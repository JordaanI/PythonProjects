{
 "cells": [
  {
   "cell_type": "code",
   "execution_count": null,
   "metadata": {},
   "outputs": [],
   "source": [
    "###############\n",
    "### Imports ###\n",
    "###############\n",
    "\n",
    "import numpy as np\n",
    "from functions import *\n",
    "import matplotlib.pyplot as plt\n",
    "%matplotlib inline\n",
    "from IPython.display import clear_output"
   ]
  },
  {
   "cell_type": "code",
   "execution_count": null,
   "metadata": {},
   "outputs": [],
   "source": [
    "amount = 1500\n",
    "size = 1000\n",
    "squares = []\n",
    "triangles = []\n",
    "square_areas = []\n",
    "triangle_areas = []\n",
    "training = []\n",
    "weights = np.zeros(size**2)\n",
    "\n",
    "while len(training) < amount:\n",
    "    shape_tri, base_tri, height_tri, start_point_tri = generate_triangle(size)\n",
    "    shape_sq, base_sq, height_sq, start_point_sq = generate_square(size)\n",
    "    training.append((shape_sq,-1))\n",
    "    training.append((shape_tri,1))\n",
    "    square_areas.append(np.sum(shape_sq))\n",
    "    triangle_areas.append(np.sum(shape_tri))\n",
    "    amount += 1\n",
    "\n",
    "print(f'Average square area: {np.mean(square_areas)}, Average triangle area: {np.mean(triangle_areas)}, Ratio: {np.mean(triangle_areas)/np.mean(square_areas)}')"
   ]
  },
  {
   "cell_type": "code",
   "execution_count": null,
   "metadata": {},
   "outputs": [],
   "source": [
    "while training:\n",
    "    i = np.random.randint(0,len(training))\n",
    "    set = training[i]\n",
    "    train = set[0].flatten()\n",
    "    label = set[1]\n",
    "    res = weights @ train\n",
    "    if res > 0:\n",
    "        res = 1\n",
    "    elif res < 0:\n",
    "        res = -1\n",
    "    \n",
    "    if res != label:\n",
    "        err = label - res\n",
    "        weights += err*train\n",
    "\n",
    "    clear_output(wait=True)\n",
    "    plt.imshow(weights.reshape((size,size)))\n",
    "    plt.colorbar()\n",
    "    plt.show()\n",
    "\n",
    "    del training[i]"
   ]
  },
  {
   "cell_type": "code",
   "execution_count": null,
   "metadata": {},
   "outputs": [],
   "source": [
    "runs = 1000\n",
    "amount = 100\n",
    "stats = []\n",
    "\n",
    "for i in range(runs):\n",
    "    correct = 0\n",
    "    for j in range(amount):\n",
    "        shape_tri, base_tri, height_tri, start_point_tri = generate_triangle(size)\n",
    "        shape_sq, base_sq, height_sq, start_point_sq = generate_square(size)\n",
    "        res_sq = shape_sq.flatten() @ weights\n",
    "        res_tri = shape_tri.flatten() @ weights\n",
    "        if res_sq < 0:\n",
    "            correct += 1\n",
    "        if res_tri > 0:\n",
    "            correct += 1\n",
    "    stats.append(round((correct/(2*amount))*100))\n",
    "\n",
    "plt.hist(list(np.sort(stats)), bins=len(np.unique(stats)));\n",
    "plt.title(f'Accuracy of perceptron over {runs} runs.');\n",
    "plt.xlabel('Accuracy (%)');"
   ]
  },
  {
   "cell_type": "markdown",
   "metadata": {},
   "source": [
    "#Attempted Convergence on weights"
   ]
  },
  {
   "cell_type": "code",
   "execution_count": null,
   "metadata": {},
   "outputs": [],
   "source": [
    "while training:\n",
    "    i = np.random.randint(0,len(training))\n",
    "    set = training[i]\n",
    "    train = set[0].flatten()\n",
    "    label = set[1]\n",
    "    res = weights @ train\n",
    "    if res > 0:\n",
    "        res = 1\n",
    "    elif res < 0:\n",
    "        res = -1\n",
    "    \n",
    "    if res != label:\n",
    "        err = label - res\n",
    "        weights += err*train\n",
    "    else:\n",
    "        del training[i]\n",
    "\n",
    "    clear_output(wait=True)\n",
    "    plt.imshow(weights.reshape((size,size)))\n",
    "    plt.title(f'Elements left: {len(training)}')\n",
    "    plt.colorbar()\n",
    "    plt.show()"
   ]
  },
  {
   "cell_type": "code",
   "execution_count": null,
   "metadata": {},
   "outputs": [],
   "source": [
    "runs = 1000\n",
    "amount = 100\n",
    "stats = []\n",
    "\n",
    "for i in range(runs):\n",
    "    correct = 0\n",
    "\n",
    "    for j in range(amount):\n",
    "        shape_tri, base_tri, height_tri, start_point_tri = generate_triangle(size)\n",
    "        shape_sq, base_sq, height_sq, start_point_sq = generate_square(size)\n",
    "        res_sq = shape_sq.flatten() @ weights\n",
    "        res_tri = shape_tri.flatten() @ weights\n",
    "        if res_sq < 0:\n",
    "            correct += 1\n",
    "        if res_tri > 0:\n",
    "            correct += 1\n",
    "    stats.append(round((correct/(2*amount))*100))\n",
    "\n",
    "plt.hist(list(np.sort(stats)), bins=len(np.unique(stats)));\n",
    "plt.title(f'Accuracy of perceptron over {runs} runs.');\n",
    "plt.xlabel('Accuracy (%)');"
   ]
  },
  {
   "cell_type": "code",
   "execution_count": 85,
   "metadata": {},
   "outputs": [
    {
     "data": {
      "text/plain": [
       "numpy.ndarray"
      ]
     },
     "execution_count": 85,
     "metadata": {},
     "output_type": "execute_result"
    },
    {
     "data": {
      "image/png": "[encoded data removed]",
      "text/plain": [
       "<Figure size 432x288 with 1 Axes>"
      ]
     },
     "metadata": {
      "needs_background": "light"
     },
     "output_type": "display_data"
    }
   ],
   "source": [
    "from sklearn.datasets import make_circles\n",
    "X, y = make_circles([1000,1001])\n",
    "scale = np.random.rand()*10\n",
    "trans_scale_x = np.random.rand()*10\n",
    "trans_scale_y = np.random.rand()*10\n",
    "X = np.array(X)*scale\n",
    "X[:,0] = X[:,0]+trans_scale_x\n",
    "X[:,1] = X[:,1]+trans_scale_y\n",
    "ax = plt.axes()\n",
    "ax.scatter(X[:,0],X[:,1])\n",
    "type(X)"
   ]
  },
  {
   "cell_type": "code",
   "execution_count": 71,
   "metadata": {},
   "outputs": [
    {
     "data": {
      "text/plain": [
       "numpy.ndarray"
      ]
     },
     "execution_count": 71,
     "metadata": {},
     "output_type": "execute_result"
    },
    {
     "data": {
      "image/png": "[encoded data removed]",
      "text/plain": [
       "<Figure size 432x288 with 1 Axes>"
      ]
     },
     "metadata": {
      "needs_background": "light"
     },
     "output_type": "display_data"
    }
   ],
   "source": [
    "from sklearn.datasets import make_moons\n",
    "X, y = make_moons([1000,1001])\n",
    "scale = np.random.rand()*10\n",
    "trans_scale_x = np.random.rand()*10\n",
    "trans_scale_y = np.random.rand()*10\n",
    "X = np.array(X)*scale\n",
    "X[:,0] = X[:,0]+trans_scale_x\n",
    "X[:,1] = X[:,1]+trans_scale_y\n",
    "ax = plt.axes()\n",
    "ax.scatter(X[:,0],X[:,1])\n",
    "type(X)"
   ]
  },
  {
   "cell_type": "code",
   "execution_count": 6,
   "metadata": {},
   "outputs": [
    {
     "data": {
      "text/plain": [
       "array([[-7.01045344e-01,  3.85402939e-01],\n",
       "       [-7.43821189e-01, -2.94499642e-01],\n",
       "       [ 3.40623433e-01, -7.23861642e-01],\n",
       "       [-4.25779292e-01, -9.04827052e-01],\n",
       "       [ 8.09016994e-01, -5.87785252e-01],\n",
       "       [-9.29776486e-01,  3.68124553e-01],\n",
       "       [ 8.00000000e-01,  0.00000000e+00],\n",
       "       [-5.09939192e-01,  6.16410594e-01],\n",
       "       [-2.47213595e-01, -7.60845213e-01],\n",
       "       [-9.68583161e-01,  2.48689887e-01],\n",
       "       [-8.00000000e-01, -2.57299624e-16],\n",
       "       [ 1.87381315e-01,  9.82287251e-01],\n",
       "       [ 7.93691761e-01,  1.00266587e-01],\n",
       "       [ 9.29776486e-01, -3.68124553e-01],\n",
       "       [ 6.37423990e-01,  7.70513243e-01],\n",
       "       [ 5.83174902e-01,  5.47637685e-01],\n",
       "       [ 1.00000000e+00,  0.00000000e+00],\n",
       "       [ 5.35826795e-01, -8.44327926e-01],\n",
       "       [-3.09016994e-01,  9.51056516e-01],\n",
       "       [ 7.01045344e-01, -3.85402939e-01],\n",
       "       [-5.35826795e-01,  8.44327926e-01],\n",
       "       [-7.93691761e-01,  1.00266587e-01],\n",
       "       [-3.09016994e-01, -9.51056516e-01],\n",
       "       [-5.02324156e-02, -7.98421383e-01],\n",
       "       [ 1.87381315e-01, -9.82287251e-01],\n",
       "       [-9.68583161e-01, -2.48689887e-01],\n",
       "       [ 7.28968627e-01, -6.84547106e-01],\n",
       "       [ 3.40623433e-01,  7.23861642e-01],\n",
       "       [ 7.01045344e-01,  3.85402939e-01],\n",
       "       [-4.28661436e-01, -6.75462340e-01],\n",
       "       [-7.28968627e-01,  6.84547106e-01],\n",
       "       [ 9.29776486e-01,  3.68124553e-01],\n",
       "       [-7.28968627e-01, -6.84547106e-01],\n",
       "       [ 8.09016994e-01,  5.87785252e-01],\n",
       "       [ 4.25779292e-01, -9.04827052e-01],\n",
       "       [ 5.02324156e-02,  7.98421383e-01],\n",
       "       [ 8.76306680e-01, -4.81753674e-01],\n",
       "       [ 3.09016994e-01, -9.51056516e-01],\n",
       "       [-1.49905052e-01, -7.85829801e-01],\n",
       "       [ 4.28661436e-01,  6.75462340e-01],\n",
       "       [ 5.02324156e-02, -7.98421383e-01],\n",
       "       [ 2.47213595e-01, -7.60845213e-01],\n",
       "       [-6.27905195e-02,  9.98026728e-01],\n",
       "       [ 5.09939192e-01,  6.16410594e-01],\n",
       "       [-5.83174902e-01, -5.47637685e-01],\n",
       "       [ 4.28661436e-01, -6.75462340e-01],\n",
       "       [ 5.09939192e-01, -6.16410594e-01],\n",
       "       [-5.09939192e-01, -6.16410594e-01],\n",
       "       [-8.09016994e-01, -5.87785252e-01],\n",
       "       [-7.74866529e-01,  1.98951910e-01],\n",
       "       [ 7.93691761e-01, -1.00266587e-01],\n",
       "       [-6.47213595e-01, -4.70228202e-01],\n",
       "       [-7.43821189e-01,  2.94499642e-01],\n",
       "       [-2.47213595e-01,  7.60845213e-01],\n",
       "       [-1.00000000e+00, -3.21624530e-16],\n",
       "       [ 9.68583161e-01,  2.48689887e-01],\n",
       "       [-5.35826795e-01, -8.44327926e-01],\n",
       "       [ 3.09016994e-01,  9.51056516e-01],\n",
       "       [-3.40623433e-01, -7.23861642e-01],\n",
       "       [-7.74866529e-01, -1.98951910e-01],\n",
       "       [-4.25779292e-01,  9.04827052e-01],\n",
       "       [-6.37423990e-01, -7.70513243e-01],\n",
       "       [-7.01045344e-01, -3.85402939e-01],\n",
       "       [-1.87381315e-01,  9.82287251e-01],\n",
       "       [ 2.47213595e-01,  7.60845213e-01],\n",
       "       [ 7.43821189e-01,  2.94499642e-01],\n",
       "       [-8.76306680e-01,  4.81753674e-01],\n",
       "       [ 1.49905052e-01, -7.85829801e-01],\n",
       "       [ 4.25779292e-01,  9.04827052e-01],\n",
       "       [ 5.83174902e-01, -5.47637685e-01],\n",
       "       [-3.40623433e-01,  7.23861642e-01],\n",
       "       [-7.93691761e-01, -1.00266587e-01],\n",
       "       [ 8.76306680e-01,  4.81753674e-01],\n",
       "       [-9.92114701e-01,  1.25333234e-01],\n",
       "       [ 6.47213595e-01, -4.70228202e-01],\n",
       "       [-9.92114701e-01, -1.25333234e-01],\n",
       "       [-9.29776486e-01, -3.68124553e-01],\n",
       "       [ 5.35826795e-01,  8.44327926e-01],\n",
       "       [ 9.92114701e-01,  1.25333234e-01],\n",
       "       [ 6.27905195e-02,  9.98026728e-01],\n",
       "       [ 6.47213595e-01,  4.70228202e-01],\n",
       "       [ 1.49905052e-01,  7.85829801e-01],\n",
       "       [ 6.37423990e-01, -7.70513243e-01],\n",
       "       [ 7.43821189e-01, -2.94499642e-01],\n",
       "       [-5.02324156e-02,  7.98421383e-01],\n",
       "       [ 6.27905195e-02, -9.98026728e-01],\n",
       "       [ 9.68583161e-01, -2.48689887e-01],\n",
       "       [-4.28661436e-01,  6.75462340e-01],\n",
       "       [-6.27905195e-02, -9.98026728e-01],\n",
       "       [ 7.74866529e-01,  1.98951910e-01],\n",
       "       [-8.76306680e-01, -4.81753674e-01],\n",
       "       [-5.83174902e-01,  5.47637685e-01],\n",
       "       [ 7.74866529e-01, -1.98951910e-01],\n",
       "       [ 9.92114701e-01, -1.25333234e-01],\n",
       "       [-1.49905052e-01,  7.85829801e-01],\n",
       "       [ 7.28968627e-01,  6.84547106e-01],\n",
       "       [-1.87381315e-01, -9.82287251e-01],\n",
       "       [-6.37423990e-01,  7.70513243e-01],\n",
       "       [-6.47213595e-01,  4.70228202e-01],\n",
       "       [-8.09016994e-01,  5.87785252e-01]])"
      ]
     },
     "execution_count": 6,
     "metadata": {},
     "output_type": "execute_result"
    }
   ],
   "source": [
    "X"
   ]
  }
 ],
 "metadata": {
  "kernelspec": {
   "display_name": "Python 3.9.7 64-bit",
   "language": "python",
   "name": "python3"
  },
  "language_info": {
   "codemirror_mode": {
    "name": "ipython",
    "version": 3
   },
   "file_extension": ".py",
   "mimetype": "text/x-python",
   "name": "python",
   "nbconvert_exporter": "python",
   "pygments_lexer": "ipython3",
   "version": "3.9.7"
  },
  "orig_nbformat": 4,
  "vscode": {
   "interpreter": {
    "hash": "e17eab0df9e3307548a5c6f41d73e01b4dc6a359441bcee24f0d97b016c3af62"
   }
  }
 },
 "nbformat": 4,
 "nbformat_minor": 2
}
