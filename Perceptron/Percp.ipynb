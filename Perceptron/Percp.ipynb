{
 "cells": [
  {
   "cell_type": "code",
   "execution_count": null,
   "metadata": {},
   "outputs": [],
   "source": [
    "###############\n",
    "### Imports ###\n",
    "###############\n",
    "\n",
    "import numpy as np\n",
    "from functions import *\n",
    "import pandas as pd\n",
    "import matplotlib.pyplot as plt\n",
    "import random\n",
    "from IPython.display import clear_output"
   ]
  },
  {
   "cell_type": "code",
   "execution_count": null,
   "metadata": {},
   "outputs": [],
   "source": [
    "amount = 1500\n",
    "size = 1000\n",
    "weights = np.zeros((size,size))\n",
    "squares = []\n",
    "triangles = []\n",
    "square_areas = []\n",
    "triangle_areas = []\n",
    "training = []\n",
    "weights = np.zeros(size**2)\n",
    "\n",
    "while len(training) < amount:\n",
    "    shape_tri, base_tri, height_tri, start_point_tri = generate_triangle(size)\n",
    "    shape_sq, base_sq, height_sq, start_point_sq = generate_square(size)\n",
    "    training.append((shape_sq,-1))\n",
    "    training.append((shape_tri,1))\n",
    "    square_areas.append(np.sum(shape_sq))\n",
    "    triangle_areas.append(np.sum(shape_tri))\n",
    "    amount += 1\n",
    "\n",
    "print(f'Average square area: {np.mean(square_areas)}, Average triangle area: {np.mean(triangle_areas)}, Ratio: {np.mean(triangle_areas)/np.mean(square_areas)}')"
   ]
  },
  {
   "cell_type": "code",
   "execution_count": null,
   "metadata": {},
   "outputs": [],
   "source": [
    "while training:\n",
    "    i = np.random.randint(0,len(training))\n",
    "    set = training[i]\n",
    "    train = set[0].flatten()\n",
    "    label = set[1]\n",
    "    res = weights @ train\n",
    "    if res > 0:\n",
    "        res = 1:\n",
    "    elif res < 0:\n",
    "        res = -1\n",
    "    break\n"
   ]
  },
  {
   "cell_type": "code",
   "execution_count": null,
   "metadata": {},
   "outputs": [],
   "source": [
    "    \n",
    "    # plt.imshow(weights)\n",
    "    # plt.title(f'{len(training),i}')\n",
    "    # plt.colorbar()\n",
    "    # plt.show()"
   ]
  }
 ],
 "metadata": {
  "kernelspec": {
   "display_name": "Python 3.9.7 64-bit",
   "language": "python",
   "name": "python3"
  },
  "language_info": {
   "codemirror_mode": {
    "name": "ipython",
    "version": 3
   },
   "file_extension": ".py",
   "mimetype": "text/x-python",
   "name": "python",
   "nbconvert_exporter": "python",
   "pygments_lexer": "ipython3",
   "version": "3.9.7"
  },
  "orig_nbformat": 4,
  "vscode": {
   "interpreter": {
    "hash": "e17eab0df9e3307548a5c6f41d73e01b4dc6a359441bcee24f0d97b016c3af62"
   }
  }
 },
 "nbformat": 4,
 "nbformat_minor": 2
}
