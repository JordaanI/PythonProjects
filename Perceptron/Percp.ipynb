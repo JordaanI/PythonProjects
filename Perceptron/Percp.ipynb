{
 "cells": [
  {
   "cell_type": "code",
   "execution_count": null,
   "metadata": {},
   "outputs": [],
   "source": [
    "###############\n",
    "### Imports ###\n",
    "###############\n",
    "\n",
    "import numpy as np\n",
    "from functions import *\n",
    "import matplotlib.pyplot as plt\n",
    "%matplotlib inline\n",
    "from IPython.display import clear_output"
   ]
  },
  {
   "cell_type": "code",
   "execution_count": null,
   "metadata": {},
   "outputs": [],
   "source": [
    "amount = 10\n",
    "size = 1000\n",
    "squares = []\n",
    "triangles = []\n",
    "square_areas = []\n",
    "triangle_areas = []\n",
    "training = []\n",
    "weights = np.zeros(size**2)\n",
    "\n",
    "while len(training) < amount:\n",
    "    shape_tri, base_tri, height_tri, start_point_tri = generate_triangle(size)\n",
    "    shape_sq, base_sq, height_sq, start_point_sq = generate_square(size)\n",
    "    training.append((shape_sq,-1))\n",
    "    training.append((shape_tri,1))\n",
    "    square_areas.append(np.sum(shape_sq))\n",
    "    triangle_areas.append(np.sum(shape_tri))\n",
    "    amount += 1\n",
    "\n",
    "print(f'Average square area: {np.mean(square_areas)}, Average triangle area: {np.mean(triangle_areas)}, Ratio: {np.mean(triangle_areas)/np.mean(square_areas)}')"
   ]
  },
  {
   "cell_type": "code",
   "execution_count": null,
   "metadata": {},
   "outputs": [],
   "source": [
    "count = 0\n",
    "final_count = len(training)\n",
    "\n",
    "while training:\n",
    "    i = np.random.randint(0,len(training))\n",
    "    set = training[i]\n",
    "    train = set[0].flatten()\n",
    "    label = set[1]\n",
    "    res = weights @ train\n",
    "    if res > 0:\n",
    "        res = 1\n",
    "    elif res < 0:\n",
    "        res = -1\n",
    "    \n",
    "    if res != label:\n",
    "        err = label - res\n",
    "        weights += err*train\n",
    "    elif count == final_count:\n",
    "        del training[i]\n",
    "    else:\n",
    "        count += 1\n",
    "\n",
    "    clear_output(wait=True)\n",
    "    fig, ax = plt.subplots(figsize = (12,12))\n",
    "    ax.imshow(weights.reshape((size,size)))\n",
    "    ax.set(title = f'Training Percentage: {(final_count - len(training) + count)/(2*final_count)}')\n",
    "    fig.colorbar()\n",
    "    plt.show()\n",
    "\n"
   ]
  },
  {
   "cell_type": "code",
   "execution_count": null,
   "metadata": {},
   "outputs": [],
   "source": [
    "runs = 1000\n",
    "amount = 100\n",
    "stats = []\n",
    "\n",
    "for i in range(runs):\n",
    "    correct = 0\n",
    "    for j in range(amount):\n",
    "        shape_tri, base_tri, height_tri, start_point_tri = generate_triangle(size)\n",
    "        shape_sq, base_sq, height_sq, start_point_sq = generate_square(size)\n",
    "        res_sq = shape_sq.flatten() @ weights\n",
    "        res_tri = shape_tri.flatten() @ weights\n",
    "        if res_sq < 0:\n",
    "            correct += 1\n",
    "        if res_tri > 0:\n",
    "            correct += 1\n",
    "    stats.append(round((correct/(2*amount))*100))\n",
    "\n",
    "plt.hist(list(np.sort(stats)), bins=len(np.unique(stats)));\n",
    "plt.title(f'Accuracy of perceptron over {runs} runs.');\n",
    "plt.xlabel('Accuracy (%)');"
   ]
  }
 ],
 "metadata": {
  "kernelspec": {
   "display_name": "Python 3.9.7 64-bit",
   "language": "python",
   "name": "python3"
  },
  "language_info": {
   "codemirror_mode": {
    "name": "ipython",
    "version": 3
   },
   "file_extension": ".py",
   "mimetype": "text/x-python",
   "name": "python",
   "nbconvert_exporter": "python",
   "pygments_lexer": "ipython3",
   "version": "3.9.7"
  },
  "orig_nbformat": 4,
  "vscode": {
   "interpreter": {
    "hash": "e17eab0df9e3307548a5c6f41d73e01b4dc6a359441bcee24f0d97b016c3af62"
   }
  }
 },
 "nbformat": 4,
 "nbformat_minor": 2
}
