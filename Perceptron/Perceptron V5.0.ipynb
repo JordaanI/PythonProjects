{
 "cells": [
  {
   "cell_type": "code",
   "execution_count": 1,
   "metadata": {},
   "outputs": [],
   "source": [
    "###############\n",
    "### Imports ###\n",
    "###############\n",
    "\n",
    "import numpy as np\n",
    "from functions import *\n",
    "import matplotlib.pyplot as plt\n",
    "%matplotlib inline\n",
    "from sklearn.datasets import make_circles\n",
    "from IPython.display import clear_output\n",
    "from sklearn.datasets import make_moons"
   ]
  },
  {
   "cell_type": "code",
   "execution_count": 2,
   "metadata": {},
   "outputs": [],
   "source": [
    "def generate_single(scale = 100, circle = True):\n",
    "    base = np.zeros((3*scale,3*scale))\n",
    "    if circle:\n",
    "        X, y = make_circles([1000,1001])\n",
    "        label = 1\n",
    "    else:\n",
    "        X, y = make_moons([1000,1001])\n",
    "        label = -1\n",
    "    size_scale = np.random.rand()*scale\n",
    "    trans_scale_x = np.random.rand()*scale\n",
    "    trans_scale_y = np.random.rand()*scale\n",
    "    X = np.array(X)*size_scale\n",
    "    X[:,0] = X[:,0]+trans_scale_x\n",
    "    X[:,1] = X[:,1]+trans_scale_y\n",
    "    for point in X:\n",
    "        base[round(point[0]),round(point[1])] += 1\n",
    "    return (base, label)\n",
    "\n",
    "def generate_many(amount, scale, status = True):\n",
    "    total = 2*amount\n",
    "    while total > 0:\n",
    "        training = []\n",
    "        base, label = generate_single(scale, status)\n",
    "        training.append((base,label))\n",
    "        status = not status\n",
    "        total -= 1\n",
    "    return training"
   ]
  },
  {
   "cell_type": "code",
   "execution_count": 5,
   "metadata": {},
   "outputs": [],
   "source": [
    "scale = 100\n",
    "training = generate_many(100,scale)\n",
    "weights = np.zeros((3*scale,3*scale)).flatten()\n",
    "\n",
    "while training:\n",
    "    i = np.random.randint(0,len(training))\n",
    "    set = training[i]\n",
    "    train = set[0].flatten()\n",
    "    label = set[1]\n",
    "    res = weights @ train\n",
    "    if res > 0:\n",
    "        res = 1\n",
    "    elif res < 0:\n",
    "        res = -1\n",
    "    \n",
    "    if res != label:\n",
    "        err = label - res\n",
    "        weights += err*train\n",
    "\n",
    "    clear_output(wait=True)\n",
    "    plt.imshow(weights.reshape((3*scale,3*scale)))\n",
    "    plt.colorbar()\n",
    "    plt.show()\n",
    "\n",
    "    del training[i]"
   ]
  }
 ],
 "metadata": {
  "kernelspec": {
   "display_name": "Python 3.9.7 64-bit",
   "language": "python",
   "name": "python3"
  },
  "language_info": {
   "codemirror_mode": {
    "name": "ipython",
    "version": 3
   },
   "file_extension": ".py",
   "mimetype": "text/x-python",
   "name": "python",
   "nbconvert_exporter": "python",
   "pygments_lexer": "ipython3",
   "version": "3.9.7"
  },
  "orig_nbformat": 4,
  "vscode": {
   "interpreter": {
    "hash": "e17eab0df9e3307548a5c6f41d73e01b4dc6a359441bcee24f0d97b016c3af62"
   }
  }
 },
 "nbformat": 4,
 "nbformat_minor": 2
}
