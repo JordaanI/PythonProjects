{
 "cells": [
  {
   "cell_type": "markdown",
   "metadata": {},
   "source": [
    "### The Project\n",
    "\n",
    "Your goal is to download the dataset from Kaggle and (randomly) select 10 different bird species to use for this classification activity.\n",
    "\n",
    "Things to keep in mind:\n",
    "\n",
    "Make sure that your Training, Testing AND Validation sets contain the same classes of species\n",
    "Your validation set is to be used at the very end -- to get a good sense of how your model is performing\n",
    "You are expected to compile a CNN in order to correctly classify your selected 10 class\n",
    "Google Colab is your friend - it can help boost your model's training time\n",
    "It can be beneficial to reshape some of the images to reduce some of the data - this will help speed up your model's training time"
   ]
  },
  {
   "cell_type": "code",
   "execution_count": null,
   "metadata": {},
   "outputs": [],
   "source": []
  }
 ],
 "metadata": {
  "language_info": {
   "name": "python"
  },
  "orig_nbformat": 4
 },
 "nbformat": 4,
 "nbformat_minor": 2
}
