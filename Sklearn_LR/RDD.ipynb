{
 "cells": [
  {
   "cell_type": "code",
   "execution_count": 15,
   "metadata": {},
   "outputs": [],
   "source": [
    "###############\n",
    "### Imports ###\n",
    "###############\n",
    "\n",
    "import datetime\n",
    "import numpy as np\n",
    "import matplotlib.pyplot as plt\n",
    "import pandas as pd\n",
    "from sklearn.linear_model import LinearRegression\n",
    "import seaborn as sns\n",
    "%matplotlib inline\n",
    "sns.set()"
   ]
  },
  {
   "cell_type": "code",
   "execution_count": 7,
   "metadata": {},
   "outputs": [],
   "source": [
    "covid_data = pd.read_csv('..\\Sklearn_LR\\data\\Covid_data.csv')\n",
    "CC = covid_data.copy()\n",
    "CC.rename(columns=\n",
    "                {CC.columns[0]: 'Date', \n",
    "                 CC.columns[1]: 'Link',\n",
    "                 CC.columns[2]: 'Laboratory',\n",
    "                 CC.columns[3]: 'Moving_Avg'}, inplace=True)\n",
    "CC.dropna(inplace=True)"
   ]
  },
  {
   "cell_type": "code",
   "execution_count": 10,
   "metadata": {},
   "outputs": [],
   "source": [
    "CC['Date'] = pd.to_datetime(CC['Date'], format='%Y%M%D')\n",
    "first_lockdown = datetime.datetime(2020,3,20)\n",
    "schools_reopen = datetime.datetime(2020,8,31)\n",
    "Second_lockdown = datetime.datetime(2020,12,25)"
   ]
  }
 ],
 "metadata": {
  "interpreter": {
   "hash": "4f83d188c93285744c9e231d0e20b204081cd39f5e44132ec4def0ee68076c04"
  },
  "kernelspec": {
   "display_name": "Python 3.9.7 64-bit",
   "language": "python",
   "name": "python3"
  },
  "language_info": {
   "codemirror_mode": {
    "name": "ipython",
    "version": 3
   },
   "file_extension": ".py",
   "mimetype": "text/x-python",
   "name": "python",
   "nbconvert_exporter": "python",
   "pygments_lexer": "ipython3",
   "version": "3.9.7"
  },
  "orig_nbformat": 4
 },
 "nbformat": 4,
 "nbformat_minor": 2
}
