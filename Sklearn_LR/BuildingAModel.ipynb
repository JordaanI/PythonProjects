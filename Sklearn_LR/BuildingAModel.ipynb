{
 "cells": [
  {
   "cell_type": "code",
   "execution_count": 1,
   "metadata": {},
   "outputs": [],
   "source": [
    "###############\n",
    "### Imports ###\n",
    "###############\n",
    "\n",
    "import numpy as np\n",
    "import matplotlib.pyplot as plt\n",
    "import seaborn as sns\n",
    "import pandas as pd\n",
    "import statsmodels.api as sm\n",
    "%matplotlib inline\n",
    "sns.set()"
   ]
  },
  {
   "cell_type": "code",
   "execution_count": 2,
   "metadata": {},
   "outputs": [],
   "source": [
    "crashes = sns.load_dataset('car_crashes')\n",
    "CC = crashes.copy()"
   ]
  },
  {
   "cell_type": "code",
   "execution_count": 3,
   "metadata": {},
   "outputs": [
    {
     "name": "stdout",
     "output_type": "stream",
     "text": [
      "                            OLS Regression Results                            \n",
      "==============================================================================\n",
      "Dep. Variable:                      y   R-squared:                       0.958\n",
      "Model:                            OLS   Adj. R-squared:                  0.952\n",
      "Method:                 Least Squares   F-statistic:                     296.6\n",
      "Date:                Tue, 21 Dec 2021   Prob (F-statistic):           6.87e-34\n",
      "Time:                        06:18:30   Log-Likelihood:                -63.311\n",
      "No. Observations:                  51   AIC:                             140.6\n",
      "Df Residuals:                      44   BIC:                             154.1\n",
      "Df Model:                           6                                         \n",
      "Covariance Type:                  HC2                                         \n",
      "==============================================================================\n",
      "                 coef    std err          z      P>|z|      [0.025      0.975]\n",
      "------------------------------------------------------------------------------\n",
      "const          1.4121      0.780      1.811      0.070      -0.116       2.940\n",
      "x1            -0.0265      0.080     -0.333      0.739      -0.182       0.129\n",
      "x2             0.4925      0.119      4.150      0.000       0.260       0.725\n",
      "x3             0.1745      0.062      2.826      0.005       0.053       0.296\n",
      "x4             0.7126      0.055     12.937      0.000       0.605       0.821\n",
      "x5            -0.0013      0.001     -1.494      0.135      -0.003       0.000\n",
      "x6             0.0064      0.006      1.159      0.247      -0.004       0.017\n",
      "==============================================================================\n",
      "Omnibus:                       21.633   Durbin-Watson:                   1.578\n",
      "Prob(Omnibus):                  0.000   Jarque-Bera (JB):               37.336\n",
      "Skew:                           1.302   Prob(JB):                     7.81e-09\n",
      "Kurtosis:                       6.284   Cond. No.                     6.77e+03\n",
      "==============================================================================\n",
      "\n",
      "Notes:\n",
      "[1] Standard Errors are heteroscedasticity robust (HC2)\n",
      "[2] The condition number is large, 6.77e+03. This might indicate that there are\n",
      "strong multicollinearity or other numerical problems.\n"
     ]
    }
   ],
   "source": [
    "X = np.asarray(CC.drop(['total','abbrev'],axis=1))\n",
    "y = np.asarray(CC['total'])\n",
    "\n",
    "model = sm.OLS(y,sm.add_constant(X))\n",
    "print(model.fit(cov_type='HC2').summary())"
   ]
  },
  {
   "cell_type": "code",
   "execution_count": 4,
   "metadata": {},
   "outputs": [
    {
     "data": {
      "text/html": [
       "<div>\n",
       "<style scoped>\n",
       "    .dataframe tbody tr th:only-of-type {\n",
       "        vertical-align: middle;\n",
       "    }\n",
       "\n",
       "    .dataframe tbody tr th {\n",
       "        vertical-align: top;\n",
       "    }\n",
       "\n",
       "    .dataframe thead th {\n",
       "        text-align: right;\n",
       "    }\n",
       "</style>\n",
       "<table border=\"1\" class=\"dataframe\">\n",
       "  <thead>\n",
       "    <tr style=\"text-align: right;\">\n",
       "      <th></th>\n",
       "      <th>total</th>\n",
       "      <th>speeding</th>\n",
       "      <th>alcohol</th>\n",
       "      <th>not_distracted</th>\n",
       "      <th>no_previous</th>\n",
       "      <th>ins_premium</th>\n",
       "      <th>ins_losses</th>\n",
       "      <th>abbrev</th>\n",
       "    </tr>\n",
       "  </thead>\n",
       "  <tbody>\n",
       "    <tr>\n",
       "      <th>19</th>\n",
       "      <td>15.1</td>\n",
       "      <td>5.738</td>\n",
       "      <td>4.530</td>\n",
       "      <td>13.137</td>\n",
       "      <td>12.684</td>\n",
       "      <td>661.88</td>\n",
       "      <td>96.57</td>\n",
       "      <td>ME</td>\n",
       "    </tr>\n",
       "    <tr>\n",
       "      <th>30</th>\n",
       "      <td>11.2</td>\n",
       "      <td>1.792</td>\n",
       "      <td>3.136</td>\n",
       "      <td>9.632</td>\n",
       "      <td>8.736</td>\n",
       "      <td>1301.52</td>\n",
       "      <td>159.85</td>\n",
       "      <td>NJ</td>\n",
       "    </tr>\n",
       "    <tr>\n",
       "      <th>35</th>\n",
       "      <td>14.1</td>\n",
       "      <td>3.948</td>\n",
       "      <td>4.794</td>\n",
       "      <td>13.959</td>\n",
       "      <td>11.562</td>\n",
       "      <td>697.73</td>\n",
       "      <td>133.52</td>\n",
       "      <td>OH</td>\n",
       "    </tr>\n",
       "    <tr>\n",
       "      <th>1</th>\n",
       "      <td>18.1</td>\n",
       "      <td>7.421</td>\n",
       "      <td>4.525</td>\n",
       "      <td>16.290</td>\n",
       "      <td>17.014</td>\n",
       "      <td>1053.48</td>\n",
       "      <td>133.93</td>\n",
       "      <td>AK</td>\n",
       "    </tr>\n",
       "    <tr>\n",
       "      <th>50</th>\n",
       "      <td>17.4</td>\n",
       "      <td>7.308</td>\n",
       "      <td>5.568</td>\n",
       "      <td>14.094</td>\n",
       "      <td>15.660</td>\n",
       "      <td>791.14</td>\n",
       "      <td>122.04</td>\n",
       "      <td>WY</td>\n",
       "    </tr>\n",
       "  </tbody>\n",
       "</table>\n",
       "</div>"
      ],
      "text/plain": [
       "    total  speeding  alcohol  not_distracted  no_previous  ins_premium  \\\n",
       "19   15.1     5.738    4.530          13.137       12.684       661.88   \n",
       "30   11.2     1.792    3.136           9.632        8.736      1301.52   \n",
       "35   14.1     3.948    4.794          13.959       11.562       697.73   \n",
       "1    18.1     7.421    4.525          16.290       17.014      1053.48   \n",
       "50   17.4     7.308    5.568          14.094       15.660       791.14   \n",
       "\n",
       "    ins_losses abbrev  \n",
       "19       96.57     ME  \n",
       "30      159.85     NJ  \n",
       "35      133.52     OH  \n",
       "1       133.93     AK  \n",
       "50      122.04     WY  "
      ]
     },
     "execution_count": 4,
     "metadata": {},
     "output_type": "execute_result"
    }
   ],
   "source": [
    "CC.sample(5)\n",
    "### Here we see that speeding, the premium and claims did not affect the totals too much. removing these then"
   ]
  },
  {
   "cell_type": "code",
   "execution_count": 5,
   "metadata": {},
   "outputs": [
    {
     "name": "stdout",
     "output_type": "stream",
     "text": [
      "                            OLS Regression Results                            \n",
      "==============================================================================\n",
      "Dep. Variable:                      y   R-squared:                       0.956\n",
      "Model:                            OLS   Adj. R-squared:                  0.953\n",
      "Method:                 Least Squares   F-statistic:                     558.2\n",
      "Date:                Tue, 21 Dec 2021   Prob (F-statistic):           9.74e-37\n",
      "Time:                        06:18:30   Log-Likelihood:                -64.431\n",
      "No. Observations:                  51   AIC:                             136.9\n",
      "Df Residuals:                      47   BIC:                             144.6\n",
      "Df Model:                           3                                         \n",
      "Covariance Type:                  HC2                                         \n",
      "==============================================================================\n",
      "                 coef    std err          z      P>|z|      [0.025      0.975]\n",
      "------------------------------------------------------------------------------\n",
      "const          1.0181      0.382      2.666      0.008       0.270       1.767\n",
      "x1             0.4650      0.108      4.289      0.000       0.253       0.678\n",
      "x2             0.1745      0.066      2.628      0.009       0.044       0.305\n",
      "x3             0.7234      0.060     12.098      0.000       0.606       0.841\n",
      "==============================================================================\n",
      "Omnibus:                       21.615   Durbin-Watson:                   1.595\n",
      "Prob(Omnibus):                  0.000   Jarque-Bera (JB):               36.675\n",
      "Skew:                           1.314   Prob(JB):                     1.09e-08\n",
      "Kurtosis:                       6.218   Cond. No.                         82.0\n",
      "==============================================================================\n",
      "\n",
      "Notes:\n",
      "[1] Standard Errors are heteroscedasticity robust (HC2)\n"
     ]
    }
   ],
   "source": [
    "X = np.asarray(CC.drop(['total','abbrev','speeding','ins_premium','ins_losses'],axis=1))\n",
    "y = np.asarray(CC['total'])\n",
    "\n",
    "model = sm.OLS(y,sm.add_constant(X))\n",
    "print(model.fit(cov_type='HC2').summary())"
   ]
  },
  {
   "cell_type": "markdown",
   "metadata": {},
   "source": [
    "All p values are not significant and therefore the model is much more realiable. As far as I know this cannot be done as easily in sklearn."
   ]
  },
  {
   "cell_type": "code",
   "execution_count": 6,
   "metadata": {},
   "outputs": [
    {
     "name": "stdout",
     "output_type": "stream",
     "text": [
      "                            OLS Regression Results                            \n",
      "==============================================================================\n",
      "Dep. Variable:                      y   R-squared:                       0.963\n",
      "Model:                            OLS   Adj. R-squared:                  0.958\n",
      "Method:                 Least Squares   F-statistic:                     444.9\n",
      "Date:                Tue, 21 Dec 2021   Prob (F-statistic):           1.11e-37\n",
      "Time:                        06:18:30   Log-Likelihood:                -59.789\n",
      "No. Observations:                  51   AIC:                             133.6\n",
      "Df Residuals:                      44   BIC:                             147.1\n",
      "Df Model:                           6                                         \n",
      "Covariance Type:                  HC2                                         \n",
      "==============================================================================\n",
      "                 coef    std err          z      P>|z|      [0.025      0.975]\n",
      "------------------------------------------------------------------------------\n",
      "const         -0.4206      1.065     -0.395      0.693      -2.507       1.666\n",
      "x1             1.0416      0.266      3.913      0.000       0.520       1.563\n",
      "x2            -0.1813      0.083     -2.188      0.029      -0.344      -0.019\n",
      "x3             1.0968      0.177      6.201      0.000       0.750       1.443\n",
      "x4            -0.0540      0.021     -2.540      0.011      -0.096      -0.012\n",
      "x5             0.0157      0.004      4.309      0.000       0.009       0.023\n",
      "x6            -0.0168      0.006     -2.743      0.006      -0.029      -0.005\n",
      "==============================================================================\n",
      "Omnibus:                       25.336   Durbin-Watson:                   1.419\n",
      "Prob(Omnibus):                  0.000   Jarque-Bera (JB):               57.191\n",
      "Skew:                           1.375   Prob(JB):                     3.81e-13\n",
      "Kurtosis:                       7.398   Cond. No.                     4.02e+03\n",
      "==============================================================================\n",
      "\n",
      "Notes:\n",
      "[1] Standard Errors are heteroscedasticity robust (HC2)\n",
      "[2] The condition number is large, 4.02e+03. This might indicate that there are\n",
      "strong multicollinearity or other numerical problems.\n"
     ]
    }
   ],
   "source": [
    "num_columns = X.shape[1]\n",
    "for i in range(num_columns):\n",
    "    temp = X[:,i]**2\n",
    "    X = np.concatenate((X,temp[:,np.newaxis]), axis=1)\n",
    "\n",
    "model = sm.OLS(y,sm.add_constant(X))\n",
    "print(model.fit(cov_type='HC2').summary())"
   ]
  },
  {
   "cell_type": "markdown",
   "metadata": {},
   "source": [
    "R squared increased but the added order to the polynomial reduced the amount of significant slopes. Overall the model is weaker."
   ]
  }
 ],
 "metadata": {
  "interpreter": {
   "hash": "4f83d188c93285744c9e231d0e20b204081cd39f5e44132ec4def0ee68076c04"
  },
  "kernelspec": {
   "display_name": "Python 3.9.7 64-bit",
   "language": "python",
   "name": "python3"
  },
  "language_info": {
   "codemirror_mode": {
    "name": "ipython",
    "version": 3
   },
   "file_extension": ".py",
   "mimetype": "text/x-python",
   "name": "python",
   "nbconvert_exporter": "python",
   "pygments_lexer": "ipython3",
   "version": "3.9.7"
  },
  "orig_nbformat": 4
 },
 "nbformat": 4,
 "nbformat_minor": 2
}
