{
 "cells": [
  {
   "cell_type": "code",
   "execution_count": 9,
   "metadata": {},
   "outputs": [],
   "source": [
    "###############\n",
    "### Imports ###\n",
    "###############\n",
    "\n",
    "import numpy as np\n",
    "import matplotlib.pyplot as plt\n",
    "import seaborn as sns\n",
    "import pandas as pd\n",
    "import statsmodels.api as sm\n",
    "%matplotlib inline\n",
    "sns.set()"
   ]
  },
  {
   "cell_type": "code",
   "execution_count": 2,
   "metadata": {},
   "outputs": [],
   "source": [
    "crashes = sns.load_dataset('car_crashes')\n",
    "CC = crashes.copy()"
   ]
  },
  {
   "cell_type": "code",
   "execution_count": 15,
   "metadata": {},
   "outputs": [
    {
     "name": "stdout",
     "output_type": "stream",
     "text": [
      "                            OLS Regression Results                            \n",
      "==============================================================================\n",
      "Dep. Variable:                      y   R-squared:                       0.958\n",
      "Model:                            OLS   Adj. R-squared:                  0.952\n",
      "Method:                 Least Squares   F-statistic:                     166.9\n",
      "Date:                Mon, 20 Dec 2021   Prob (F-statistic):           1.37e-28\n",
      "Time:                        19:27:33   Log-Likelihood:                -63.311\n",
      "No. Observations:                  51   AIC:                             140.6\n",
      "Df Residuals:                      44   BIC:                             154.1\n",
      "Df Model:                           6                                         \n",
      "Covariance Type:            nonrobust                                         \n",
      "==============================================================================\n",
      "                 coef    std err          t      P>|t|      [0.025      0.975]\n",
      "------------------------------------------------------------------------------\n",
      "const          1.4121      0.934      1.512      0.138      -0.470       3.294\n",
      "x1            -0.0265      0.087     -0.305      0.762      -0.202       0.149\n",
      "x2             0.4925      0.138      3.569      0.001       0.214       0.771\n",
      "x3             0.1745      0.046      3.768      0.000       0.081       0.268\n",
      "x4             0.7126      0.061     11.713      0.000       0.590       0.835\n",
      "x5            -0.0013      0.001     -1.336      0.189      -0.003       0.001\n",
      "x6             0.0064      0.007      0.959      0.343      -0.007       0.020\n",
      "==============================================================================\n",
      "Omnibus:                       21.633   Durbin-Watson:                   1.578\n",
      "Prob(Omnibus):                  0.000   Jarque-Bera (JB):               37.336\n",
      "Skew:                           1.302   Prob(JB):                     7.81e-09\n",
      "Kurtosis:                       6.284   Cond. No.                     6.77e+03\n",
      "==============================================================================\n",
      "\n",
      "Notes:\n",
      "[1] Standard Errors assume that the covariance matrix of the errors is correctly specified.\n",
      "[2] The condition number is large, 6.77e+03. This might indicate that there are\n",
      "strong multicollinearity or other numerical problems.\n"
     ]
    }
   ],
   "source": [
    "X = np.asarray(CC.drop(['total','abbrev'],axis=1))\n",
    "y = np.asarray(CC['total'])\n",
    "\n",
    "model = sm.OLS(y,sm.add_constant(X))\n",
    "print(model.fit().summary())"
   ]
  },
  {
   "cell_type": "code",
   "execution_count": 16,
   "metadata": {},
   "outputs": [
    {
     "data": {
      "text/html": [
       "<div>\n",
       "<style scoped>\n",
       "    .dataframe tbody tr th:only-of-type {\n",
       "        vertical-align: middle;\n",
       "    }\n",
       "\n",
       "    .dataframe tbody tr th {\n",
       "        vertical-align: top;\n",
       "    }\n",
       "\n",
       "    .dataframe thead th {\n",
       "        text-align: right;\n",
       "    }\n",
       "</style>\n",
       "<table border=\"1\" class=\"dataframe\">\n",
       "  <thead>\n",
       "    <tr style=\"text-align: right;\">\n",
       "      <th></th>\n",
       "      <th>total</th>\n",
       "      <th>speeding</th>\n",
       "      <th>alcohol</th>\n",
       "      <th>not_distracted</th>\n",
       "      <th>no_previous</th>\n",
       "      <th>ins_premium</th>\n",
       "      <th>ins_losses</th>\n",
       "      <th>abbrev</th>\n",
       "    </tr>\n",
       "  </thead>\n",
       "  <tbody>\n",
       "    <tr>\n",
       "      <th>40</th>\n",
       "      <td>23.9</td>\n",
       "      <td>9.082</td>\n",
       "      <td>9.799</td>\n",
       "      <td>22.944</td>\n",
       "      <td>19.359</td>\n",
       "      <td>858.97</td>\n",
       "      <td>116.29</td>\n",
       "      <td>SC</td>\n",
       "    </tr>\n",
       "    <tr>\n",
       "      <th>50</th>\n",
       "      <td>17.4</td>\n",
       "      <td>7.308</td>\n",
       "      <td>5.568</td>\n",
       "      <td>14.094</td>\n",
       "      <td>15.660</td>\n",
       "      <td>791.14</td>\n",
       "      <td>122.04</td>\n",
       "      <td>WY</td>\n",
       "    </tr>\n",
       "    <tr>\n",
       "      <th>46</th>\n",
       "      <td>12.7</td>\n",
       "      <td>2.413</td>\n",
       "      <td>3.429</td>\n",
       "      <td>11.049</td>\n",
       "      <td>11.176</td>\n",
       "      <td>768.95</td>\n",
       "      <td>153.72</td>\n",
       "      <td>VA</td>\n",
       "    </tr>\n",
       "    <tr>\n",
       "      <th>21</th>\n",
       "      <td>8.2</td>\n",
       "      <td>1.886</td>\n",
       "      <td>2.870</td>\n",
       "      <td>7.134</td>\n",
       "      <td>6.560</td>\n",
       "      <td>1011.14</td>\n",
       "      <td>135.63</td>\n",
       "      <td>MA</td>\n",
       "    </tr>\n",
       "    <tr>\n",
       "      <th>42</th>\n",
       "      <td>19.5</td>\n",
       "      <td>4.095</td>\n",
       "      <td>5.655</td>\n",
       "      <td>15.990</td>\n",
       "      <td>15.795</td>\n",
       "      <td>767.91</td>\n",
       "      <td>155.57</td>\n",
       "      <td>TN</td>\n",
       "    </tr>\n",
       "  </tbody>\n",
       "</table>\n",
       "</div>"
      ],
      "text/plain": [
       "    total  speeding  alcohol  not_distracted  no_previous  ins_premium  \\\n",
       "40   23.9     9.082    9.799          22.944       19.359       858.97   \n",
       "50   17.4     7.308    5.568          14.094       15.660       791.14   \n",
       "46   12.7     2.413    3.429          11.049       11.176       768.95   \n",
       "21    8.2     1.886    2.870           7.134        6.560      1011.14   \n",
       "42   19.5     4.095    5.655          15.990       15.795       767.91   \n",
       "\n",
       "    ins_losses abbrev  \n",
       "40      116.29     SC  \n",
       "50      122.04     WY  \n",
       "46      153.72     VA  \n",
       "21      135.63     MA  \n",
       "42      155.57     TN  "
      ]
     },
     "execution_count": 16,
     "metadata": {},
     "output_type": "execute_result"
    }
   ],
   "source": [
    "CC.sample(5)\n",
    "### Here we see that speeding, the premium and claims did not affect the totals too much. removing these then"
   ]
  },
  {
   "cell_type": "code",
   "execution_count": 17,
   "metadata": {},
   "outputs": [
    {
     "name": "stdout",
     "output_type": "stream",
     "text": [
      "                            OLS Regression Results                            \n",
      "==============================================================================\n",
      "Dep. Variable:                      y   R-squared:                       0.956\n",
      "Model:                            OLS   Adj. R-squared:                  0.953\n",
      "Method:                 Least Squares   F-statistic:                     340.6\n",
      "Date:                Mon, 20 Dec 2021   Prob (F-statistic):           7.11e-32\n",
      "Time:                        19:31:28   Log-Likelihood:                -64.431\n",
      "No. Observations:                  51   AIC:                             136.9\n",
      "Df Residuals:                      47   BIC:                             144.6\n",
      "Df Model:                           3                                         \n",
      "Covariance Type:            nonrobust                                         \n",
      "==============================================================================\n",
      "                 coef    std err          t      P>|t|      [0.025      0.975]\n",
      "------------------------------------------------------------------------------\n",
      "const          1.0181      0.489      2.083      0.043       0.035       2.001\n",
      "x1             0.4650      0.126      3.702      0.001       0.212       0.718\n",
      "x2             0.1745      0.045      3.873      0.000       0.084       0.265\n",
      "x3             0.7234      0.059     12.244      0.000       0.605       0.842\n",
      "==============================================================================\n",
      "Omnibus:                       21.615   Durbin-Watson:                   1.595\n",
      "Prob(Omnibus):                  0.000   Jarque-Bera (JB):               36.675\n",
      "Skew:                           1.314   Prob(JB):                     1.09e-08\n",
      "Kurtosis:                       6.218   Cond. No.                         82.0\n",
      "==============================================================================\n",
      "\n",
      "Notes:\n",
      "[1] Standard Errors assume that the covariance matrix of the errors is correctly specified.\n"
     ]
    }
   ],
   "source": [
    "X = np.asarray(CC.drop(['total','abbrev','speeding','ins_premium','ins_losses'],axis=1))\n",
    "y = np.asarray(CC['total'])\n",
    "\n",
    "model = sm.OLS(y,sm.add_constant(X))\n",
    "print(model.fit().summary())"
   ]
  },
  {
   "cell_type": "markdown",
   "metadata": {},
   "source": [
    "All p values are not significant and therefore the model is much more realiable. As far as I know this cannot be done as easily in sklearn."
   ]
  }
 ],
 "metadata": {
  "interpreter": {
   "hash": "4f83d188c93285744c9e231d0e20b204081cd39f5e44132ec4def0ee68076c04"
  },
  "kernelspec": {
   "display_name": "Python 3.9.7 64-bit",
   "language": "python",
   "name": "python3"
  },
  "language_info": {
   "codemirror_mode": {
    "name": "ipython",
    "version": 3
   },
   "file_extension": ".py",
   "mimetype": "text/x-python",
   "name": "python",
   "nbconvert_exporter": "python",
   "pygments_lexer": "ipython3",
   "version": "3.9.7"
  },
  "orig_nbformat": 4
 },
 "nbformat": 4,
 "nbformat_minor": 2
}
